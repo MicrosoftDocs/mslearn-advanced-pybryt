{
 "cells": [
  {
   "cell_type": "code",
   "execution_count": 2,
   "id": "1a962df6-7721-4d43-ba5f-3b0e3b4f5788",
   "metadata": {
    "tags": [
     "remove"
    ]
   },
   "outputs": [],
   "source": [
    "import hashlib\n",
    "import numpy as np\n",
    "import pybryt"
   ]
  },
  {
   "cell_type": "markdown",
   "id": "39ed3fc2-3c16-4733-9a38-f59dad125a98",
   "metadata": {},
   "source": [
    "The most basic kind of annotation in PyBryt is the value annotation, which asserts the presence of some value in the student's memory footprint. However, these annotations don't cover all cases; what if you want to check for two possible representations of some value, or you want to examine the ordering of values? This is where relational annotations come in.\n",
    "\n",
    "Relational annotations define some kind of relationship between other annotations. You can think of relational annotations as annotations that operate on other annotations, asserting conditions on how those annotations are satisfied. In the last module, you learned about collection annotations, and how those can be used to enforce the ordering of annotations. Relational annotations are similar, and in fact collections can be thought of as a type of relational annotations.\n",
    "\n",
    "Currently, PyBryt supports two types of relational annotations: temporal annotations and logical annotations."
   ]
  },
  {
   "cell_type": "markdown",
   "id": "cf7faaaf-fde2-42d3-bcb8-f2ab508a2739",
   "metadata": {},
   "source": [
    "## Temporal annotations\n",
    "\n",
    "Temporal annotations describe a temporal relationship between different annotations. They are satisfied when all of their child annotations are satisfied and the timestamps of the values satisfying those annotations occur in a particular order.\n",
    "\n",
    "PyBryt has only one kind of temporal annotation, the `BeforeAnnotation`, which asserts that the satisfying timestamps of its child annotations occur in non-decreasing order. These annotations can be instantiated directly using the constructor like any other annotations, but all annotations also have a `before` and `after` method that can be used to construct these annotations in a more semantic way:"
   ]
  },
  {
   "cell_type": "code",
   "execution_count": 4,
   "id": "970c0d31-cba2-441c-9633-206cb322a733",
   "metadata": {},
   "outputs": [
    {
     "data": {
      "text/plain": [
       "(pybryt.BeforeAnnotation, pybryt.BeforeAnnotation)"
      ]
     },
     "execution_count": 4,
     "metadata": {},
     "output_type": "execute_result"
    }
   ],
   "source": [
    "a1 = pybryt.Value(1)\n",
    "a2 = pybryt.Value(2)\n",
    "\n",
    "a1.before(a2), a1.after(a2)"
   ]
  },
  {
   "cell_type": "markdown",
   "id": "968329e4-03df-4d37-b6da-35298b63649e",
   "metadata": {},
   "source": [
    "As you can see, both [`Annotation.before`](https://microsoft.github.io/pybryt/html/api_reference.html#pybryt.annotations.annotation.Annotation.before) and [`Annotation.after`](https://microsoft.github.io/pybryt/html/api_reference.html#pybryt.annotations.annotation.Annotation.after) return `BeforeAnnotation`s, but the ordering of the annotations is reversed in the annotation returned by `after`.\n",
    "\n",
    "When you create a relational annotation, you can update the fields for each of the annotation options as needed, or pass the options as keyword arguments to the `before` or `after` method:"
   ]
  },
  {
   "cell_type": "code",
   "execution_count": 10,
   "id": "4ec5e0af-b648-49a0-8387-9378efd07fdf",
   "metadata": {},
   "outputs": [],
   "source": [
    "a1_before_a2 = a1.before(\n",
    "    a2,\n",
    "    success_message=\"a1 is before a2\",\n",
    "    failure_message=\"a1 is not before a2\",\n",
    ")\n",
    "\n",
    "# or:\n",
    "a1_before_a2 = a1.before(a2)\n",
    "a1_before_a2.success_message = \"a1 is before a2\"\n",
    "a1_before_a2.failure_message = \"a1 is not before a2\""
   ]
  },
  {
   "cell_type": "markdown",
   "id": "9555115a-ca6f-4ff7-89a4-c91e9cbfc78c",
   "metadata": {},
   "source": [
    "With a dummy memory footprint, we can see how the `BeforeAnnotation` is satisfied. In the cell below, we create such a footprint using the `pybryt.MemoryFootprint.from_values` method, which accepts alternating values and timestamps:\n",
    "\n",
    "```python\n",
    "pybryt.MemoryFootprint.from_values(val1, ts1, val2, ts2, val3, ts3, ...)\n",
    "```\n",
    "\n",
    "Notice how the result of our relational annotation changes as we change the values in the footprint and their timestamps."
   ]
  },
  {
   "cell_type": "code",
   "execution_count": 15,
   "id": "7a4591d2-5a60-4041-adda-f7bb9c27733c",
   "metadata": {},
   "outputs": [
    {
     "name": "stdout",
     "output_type": "stream",
     "text": [
      "REFERENCE: temporal-annotations\n",
      "SATISFIED: True\n",
      "MESSAGES:\n",
      "  - a1 is before a2\n"
     ]
    }
   ],
   "source": [
    "ref = pybryt.ReferenceImplementation(\"temporal-annotations\", [a1_before_a2])\n",
    "\n",
    "# the values in the correct order\n",
    "res = ref.run(pybryt.MemoryFootprint.from_values(1, 1, 2, 2))\n",
    "print(pybryt.generate_report(res))"
   ]
  },
  {
   "cell_type": "code",
   "execution_count": 13,
   "id": "3028bbd5-21e4-42e9-a0b2-9eaa707228b2",
   "metadata": {},
   "outputs": [
    {
     "name": "stdout",
     "output_type": "stream",
     "text": [
      "REFERENCE: temporal-annotations\n",
      "SATISFIED: True\n",
      "MESSAGES:\n",
      "  - a1 is before a2\n"
     ]
    }
   ],
   "source": [
    "# put both values at the same timestamp\n",
    "res = ref.run(pybryt.MemoryFootprint.from_values(1, 1, 2, 1))\n",
    "print(pybryt.generate_report(res))"
   ]
  },
  {
   "cell_type": "code",
   "execution_count": 16,
   "id": "7640cb25-fc4b-4028-9806-d06c7b9e424a",
   "metadata": {},
   "outputs": [
    {
     "name": "stdout",
     "output_type": "stream",
     "text": [
      "REFERENCE: temporal-annotations\n",
      "SATISFIED: False\n",
      "MESSAGES:\n",
      "  - a1 is not before a2\n"
     ]
    }
   ],
   "source": [
    "# put the timestamp of 1 after the timestamp of 2\n",
    "res = ref.run(pybryt.MemoryFootprint.from_values(1, 2, 2, 1))\n",
    "print(pybryt.generate_report(res))"
   ]
  },
  {
   "cell_type": "code",
   "execution_count": 17,
   "id": "a0987439-bf27-48b2-b4dc-5871b3e60a5e",
   "metadata": {},
   "outputs": [
    {
     "name": "stdout",
     "output_type": "stream",
     "text": [
      "REFERENCE: temporal-annotations\n",
      "SATISFIED: False\n",
      "MESSAGES:\n",
      "  - a1 is not before a2\n"
     ]
    }
   ],
   "source": [
    "# don't satisfy the second annotation\n",
    "res = ref.run(pybryt.MemoryFootprint.from_values(1, 1))\n",
    "print(pybryt.generate_report(res))"
   ]
  },
  {
   "cell_type": "markdown",
   "id": "3e334a71-7961-4186-9e19-1b5f75ab7309",
   "metadata": {},
   "source": [
    "## Logical annotations\n",
    "\n",
    "Logical annotations aren't concerned with the temporality of when annotations are satisfied but instead operate on whether annotations are satisfied at all. They assert conditions on whether child annotations are satisfied, allowing you to construct complex boolean logic within your references to allow for multiple paths arriving at the same solution.\n",
    "\n",
    "To create a logic annotation, use Python's bitwise logical operators on any annotation:"
   ]
  },
  {
   "cell_type": "code",
   "execution_count": 19,
   "id": "801f9be6-9ec5-4868-852f-86e2621941df",
   "metadata": {},
   "outputs": [
    {
     "data": {
      "text/plain": [
       "(pybryt.AndAnnotation, pybryt.OrAnnotation, pybryt.XorAnnotation)"
      ]
     },
     "execution_count": 19,
     "metadata": {},
     "output_type": "execute_result"
    }
   ],
   "source": [
    "a1 & a2, a1 | a2, a1 ^ a2"
   ]
  },
  {
   "cell_type": "markdown",
   "id": "99374a2a-57a2-4bcd-a506-7536c0e27c3a",
   "metadata": {},
   "source": [
    "To create conditions involving more than just two annotations, you can chain the operators, or instantiate the annotations directly with their child annotations. Similar to temporal annotations, the options for logical annotations can be set by updating the corresponding attribute on the "
   ]
  },
  {
   "cell_type": "code",
   "execution_count": 20,
   "id": "ec6388e7-2af8-46a6-9a7d-ef8cc8143c3d",
   "metadata": {},
   "outputs": [],
   "source": [
    "a3 = pybryt.Value(3)\n",
    "\n",
    "all_anns = a1 & a2 & a3\n",
    "all_anns.success_message = \"Found a1, a2, and a3\"\n",
    "all_anns.failure_message = \"Did not find a1, a2, and a3\"\n",
    "\n",
    "any_anns = a1 | a2 | a3\n",
    "any_anns.success_message = \"Found a1, a2, or a3\"\n",
    "any_anns.failure_message = \"Did not find a1, a2, or a3\"\n",
    "\n",
    "one_ann = a1 ^ a2 ^ a3\n",
    "one_ann.success_message = \"Found exactly of a1, a2, or a3\"\n",
    "one_ann.failure_message = \"Did not find exactly one of a1, a2, or a3\""
   ]
  }
 ],
 "metadata": {
  "kernelspec": {
   "display_name": "Python 3 (ipykernel)",
   "language": "python",
   "name": "python3"
  },
  "language_info": {
   "codemirror_mode": {
    "name": "ipython",
    "version": 3
   },
   "file_extension": ".py",
   "mimetype": "text/x-python",
   "name": "python",
   "nbconvert_exporter": "python",
   "pygments_lexer": "ipython3",
   "version": "3.7.7"
  }
 },
 "nbformat": 4,
 "nbformat_minor": 5
}
