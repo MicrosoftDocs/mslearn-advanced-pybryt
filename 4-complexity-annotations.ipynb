{
 "cells": [
  {
   "cell_type": "code",
   "execution_count": 14,
   "id": "107754dc-a0e4-4775-a1e2-95eb3b7f90c0",
   "metadata": {
    "tags": [
     "remove"
    ]
   },
   "outputs": [],
   "source": [
    "import hashlib\n",
    "import numpy as np\n",
    "import pybryt\n",
    "\n",
    "sort = lambda l: sorted(l)"
   ]
  },
  {
   "cell_type": "markdown",
   "id": "7209fabb-f657-4e2f-8d39-0c1a0c5960e0",
   "metadata": {},
   "source": [
    "Complexity annotations can be used to assert that a block of student code runs within a certain level of complexity. PyBryt determines the complexity of a block of student code by comparing the number of execution steps for various input lengths and using least-squares to determine which complexity class minimizes best represents the relationship.\n",
    "\n",
    "Making use of complexity annotations is a two-part endeavor: you must create an annotation that tells PyBryt to look for time complexity in the memory footprint, but you must also create a block of code in the student's submission that tells PyBryt which block of code to run the complexity check on.\n",
    "\n",
    "Creating the annotation is simple: just instantiate the `pybryt.TimeComplexity` class. This annotation takes as its argument a complexity class supplied by the module `pybryt.complexities`:"
   ]
  },
  {
   "cell_type": "code",
   "execution_count": 4,
   "id": "0102bfa6-8ea0-4e13-b326-487541b7470d",
   "metadata": {},
   "outputs": [
    {
     "data": {
      "text/plain": [
       "[pybryt.annotations.complexity.complexities.constant,\n",
       " pybryt.annotations.complexity.complexities.logarithmic,\n",
       " pybryt.annotations.complexity.complexities.linear,\n",
       " pybryt.annotations.complexity.complexities.linearithmic,\n",
       " pybryt.annotations.complexity.complexities.quadratic,\n",
       " pybryt.annotations.complexity.complexities.cubic]"
      ]
     },
     "execution_count": 4,
     "metadata": {},
     "output_type": "execute_result"
    }
   ],
   "source": [
    "import pybryt.complexities as cplx\n",
    "cplx.complexity_classes"
   ]
  },
  {
   "cell_type": "markdown",
   "id": "5c3a3db5-a295-4761-9521-258dba0f0ff5",
   "metadata": {},
   "source": [
    "The `TimeComplexity` constructor also requires the `name` option to be supplied, as this is how the data from the student's submission will be tied to the annotation."
   ]
  },
  {
   "cell_type": "code",
   "execution_count": 5,
   "id": "580cd086-3ee7-4900-8587-6760be1f3edf",
   "metadata": {},
   "outputs": [
    {
     "data": {
      "text/plain": [
       "pybryt.TimeComplexity"
      ]
     },
     "execution_count": 5,
     "metadata": {},
     "output_type": "execute_result"
    }
   ],
   "source": [
    "pybryt.TimeComplexity(cplx.linear, name=\"foo\")"
   ]
  },
  {
   "cell_type": "markdown",
   "id": "30e458fa-f998-4e55-adc6-8a846e97d2ca",
   "metadata": {},
   "source": [
    "And that's all that's required on the reference implementation end. The real work of checking the time complexity of students' code comes in writing the scaffold provided to students, which must use PyBryt's `check_time_complexity` context manager to mark a block of code as a block that should be checked for time complexity. This context manager accepts as arguments the name of the block (which should be the same as the `name` provided to the annotation) and the size of input being run in that context.\n",
    "\n",
    "For example, consider a simple exponentiation algorithm where the size of the input is the power that the base is being raised to."
   ]
  },
  {
   "cell_type": "code",
   "execution_count": 10,
   "id": "72b46575-a814-498e-8c17-8887c04995c7",
   "metadata": {},
   "outputs": [],
   "source": [
    "def power(b, p):\n",
    "    if p == 0:\n",
    "        return 1\n",
    "    return b * power(b, p - 1)\n",
    "\n",
    "with pybryt.check_time_complexity(\"foo\", 10):\n",
    "    assert power(2, 10) == 2 ** 10"
   ]
  },
  {
   "cell_type": "markdown",
   "id": "47054eb6-c6a1-4e10-83b1-3a8577b213f5",
   "metadata": {},
   "source": [
    "One data point, however, isn't enough. To collect data for multiple input sizes, you can use the context manager with the same name and vary the input length:"
   ]
  },
  {
   "cell_type": "code",
   "execution_count": 11,
   "id": "ff925ce9-3c73-4d30-959a-a254445528a3",
   "metadata": {},
   "outputs": [],
   "source": [
    "for p in [2, 5, 10, 15, 20]:\n",
    "    with pybryt.check_time_complexity(\"foo\", p):\n",
    "        assert power(2, p) == 2 ** p"
   ]
  },
  {
   "cell_type": "markdown",
   "id": "a5d97e4c-b4e7-4148-97a8-9ea1e003e69e",
   "metadata": {},
   "source": [
    "For simplicity, if the input you're running is an object that supports `len` for determining its size, you can also just pass the input itself as the second argument:"
   ]
  },
  {
   "cell_type": "code",
   "execution_count": 15,
   "id": "dc5668ab-19b9-4d47-896b-dc16267575aa",
   "metadata": {},
   "outputs": [],
   "source": [
    "l = [1, 2, 3]\n",
    "with pybryt.check_time_complexity(\"bar\", l):\n",
    "    sort(l)"
   ]
  },
  {
   "cell_type": "markdown",
   "id": "d6d44541-d741-436a-bfc3-ef59063c173f",
   "metadata": {},
   "source": [
    "When used in the student's code (or in any context where the notebook isn't being executed by PyBryt to generate a memory footprint), the `check_time_complexity` context does nothing. However, when PyBryt is running the code, it tracks the number of steps it takes to execute the block. Because the input lengths needed to accurately measure time complexity can get very high, PyBryt doesn't trace for values inside these contexts; this means that any calls needed to satisfy value annotations must occur **outside** a `check_time_complexity` context, otherwise PyBryt won't see the value in the student's memory footprint."
   ]
  }
 ],
 "metadata": {
  "kernelspec": {
   "display_name": "Python 3 (ipykernel)",
   "language": "python",
   "name": "python3"
  },
  "language_info": {
   "codemirror_mode": {
    "name": "ipython",
    "version": 3
   },
   "file_extension": ".py",
   "mimetype": "text/x-python",
   "name": "python",
   "nbconvert_exporter": "python",
   "pygments_lexer": "ipython3",
   "version": "3.7.7"
  }
 },
 "nbformat": 4,
 "nbformat_minor": 5
}
